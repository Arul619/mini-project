{
  "nbformat": 4,
  "nbformat_minor": 0,
  "metadata": {
    "colab": {
      "name": "Mini project.ipynb",
      "provenance": [],
      "collapsed_sections": [],
      "authorship_tag": "ABX9TyPwX4k7eFiAhdvLGYoWlgCW",
      "include_colab_link": true
    },
    "kernelspec": {
      "name": "python3",
      "display_name": "Python 3"
    }
  },
  "cells": [
    {
      "cell_type": "markdown",
      "metadata": {
        "id": "view-in-github",
        "colab_type": "text"
      },
      "source": [
        "<a href=\"https://colab.research.google.com/github/Arul619/mini-project/blob/master/Mini_project.ipynb\" target=\"_parent\"><img src=\"https://colab.research.google.com/assets/colab-badge.svg\" alt=\"Open In Colab\"/></a>"
      ]
    },
    {
      "cell_type": "code",
      "metadata": {
        "id": "x6q5MHHDOj1K",
        "colab_type": "code",
        "colab": {}
      },
      "source": [
        "# I Have Used Linear Regression Algorithm\n",
        "import pandas as pd\n",
        "import seaborn as sns"
      ],
      "execution_count": null,
      "outputs": []
    },
    {
      "cell_type": "code",
      "metadata": {
        "id": "y7dn5iyAPec-",
        "colab_type": "code",
        "colab": {
          "base_uri": "https://localhost:8080/",
          "height": 418
        },
        "outputId": "8616da91-b99c-43ec-c79a-ec4bd77cc0f2"
      },
      "source": [
        "df = pd.read_csv('/content/winequality-red.csv')\n",
        "df"
      ],
      "execution_count": null,
      "outputs": [
        {
          "output_type": "execute_result",
          "data": {
            "text/html": [
              "<div>\n",
              "<style scoped>\n",
              "    .dataframe tbody tr th:only-of-type {\n",
              "        vertical-align: middle;\n",
              "    }\n",
              "\n",
              "    .dataframe tbody tr th {\n",
              "        vertical-align: top;\n",
              "    }\n",
              "\n",
              "    .dataframe thead th {\n",
              "        text-align: right;\n",
              "    }\n",
              "</style>\n",
              "<table border=\"1\" class=\"dataframe\">\n",
              "  <thead>\n",
              "    <tr style=\"text-align: right;\">\n",
              "      <th></th>\n",
              "      <th>fixed acidity</th>\n",
              "      <th>volatile acidity</th>\n",
              "      <th>citric acid</th>\n",
              "      <th>residual sugar</th>\n",
              "      <th>chlorides</th>\n",
              "      <th>free sulfur dioxide</th>\n",
              "      <th>total sulfur dioxide</th>\n",
              "      <th>density</th>\n",
              "      <th>pH</th>\n",
              "      <th>sulphates</th>\n",
              "      <th>alcohol</th>\n",
              "      <th>quality</th>\n",
              "    </tr>\n",
              "  </thead>\n",
              "  <tbody>\n",
              "    <tr>\n",
              "      <th>0</th>\n",
              "      <td>7.4</td>\n",
              "      <td>0.700</td>\n",
              "      <td>0.00</td>\n",
              "      <td>1.9</td>\n",
              "      <td>0.076</td>\n",
              "      <td>11.0</td>\n",
              "      <td>34.0</td>\n",
              "      <td>0.99780</td>\n",
              "      <td>3.51</td>\n",
              "      <td>0.56</td>\n",
              "      <td>9.4</td>\n",
              "      <td>5</td>\n",
              "    </tr>\n",
              "    <tr>\n",
              "      <th>1</th>\n",
              "      <td>7.8</td>\n",
              "      <td>0.880</td>\n",
              "      <td>0.00</td>\n",
              "      <td>2.6</td>\n",
              "      <td>0.098</td>\n",
              "      <td>25.0</td>\n",
              "      <td>67.0</td>\n",
              "      <td>0.99680</td>\n",
              "      <td>3.20</td>\n",
              "      <td>0.68</td>\n",
              "      <td>9.8</td>\n",
              "      <td>5</td>\n",
              "    </tr>\n",
              "    <tr>\n",
              "      <th>2</th>\n",
              "      <td>7.8</td>\n",
              "      <td>0.760</td>\n",
              "      <td>0.04</td>\n",
              "      <td>2.3</td>\n",
              "      <td>0.092</td>\n",
              "      <td>15.0</td>\n",
              "      <td>54.0</td>\n",
              "      <td>0.99700</td>\n",
              "      <td>3.26</td>\n",
              "      <td>0.65</td>\n",
              "      <td>9.8</td>\n",
              "      <td>5</td>\n",
              "    </tr>\n",
              "    <tr>\n",
              "      <th>3</th>\n",
              "      <td>11.2</td>\n",
              "      <td>0.280</td>\n",
              "      <td>0.56</td>\n",
              "      <td>1.9</td>\n",
              "      <td>0.075</td>\n",
              "      <td>17.0</td>\n",
              "      <td>60.0</td>\n",
              "      <td>0.99800</td>\n",
              "      <td>3.16</td>\n",
              "      <td>0.58</td>\n",
              "      <td>9.8</td>\n",
              "      <td>6</td>\n",
              "    </tr>\n",
              "    <tr>\n",
              "      <th>4</th>\n",
              "      <td>7.4</td>\n",
              "      <td>0.700</td>\n",
              "      <td>0.00</td>\n",
              "      <td>1.9</td>\n",
              "      <td>0.076</td>\n",
              "      <td>11.0</td>\n",
              "      <td>34.0</td>\n",
              "      <td>0.99780</td>\n",
              "      <td>3.51</td>\n",
              "      <td>0.56</td>\n",
              "      <td>9.4</td>\n",
              "      <td>5</td>\n",
              "    </tr>\n",
              "    <tr>\n",
              "      <th>...</th>\n",
              "      <td>...</td>\n",
              "      <td>...</td>\n",
              "      <td>...</td>\n",
              "      <td>...</td>\n",
              "      <td>...</td>\n",
              "      <td>...</td>\n",
              "      <td>...</td>\n",
              "      <td>...</td>\n",
              "      <td>...</td>\n",
              "      <td>...</td>\n",
              "      <td>...</td>\n",
              "      <td>...</td>\n",
              "    </tr>\n",
              "    <tr>\n",
              "      <th>1594</th>\n",
              "      <td>6.2</td>\n",
              "      <td>0.600</td>\n",
              "      <td>0.08</td>\n",
              "      <td>2.0</td>\n",
              "      <td>0.090</td>\n",
              "      <td>32.0</td>\n",
              "      <td>44.0</td>\n",
              "      <td>0.99490</td>\n",
              "      <td>3.45</td>\n",
              "      <td>0.58</td>\n",
              "      <td>10.5</td>\n",
              "      <td>5</td>\n",
              "    </tr>\n",
              "    <tr>\n",
              "      <th>1595</th>\n",
              "      <td>5.9</td>\n",
              "      <td>0.550</td>\n",
              "      <td>0.10</td>\n",
              "      <td>2.2</td>\n",
              "      <td>0.062</td>\n",
              "      <td>39.0</td>\n",
              "      <td>51.0</td>\n",
              "      <td>0.99512</td>\n",
              "      <td>3.52</td>\n",
              "      <td>0.76</td>\n",
              "      <td>11.2</td>\n",
              "      <td>6</td>\n",
              "    </tr>\n",
              "    <tr>\n",
              "      <th>1596</th>\n",
              "      <td>6.3</td>\n",
              "      <td>0.510</td>\n",
              "      <td>0.13</td>\n",
              "      <td>2.3</td>\n",
              "      <td>0.076</td>\n",
              "      <td>29.0</td>\n",
              "      <td>40.0</td>\n",
              "      <td>0.99574</td>\n",
              "      <td>3.42</td>\n",
              "      <td>0.75</td>\n",
              "      <td>11.0</td>\n",
              "      <td>6</td>\n",
              "    </tr>\n",
              "    <tr>\n",
              "      <th>1597</th>\n",
              "      <td>5.9</td>\n",
              "      <td>0.645</td>\n",
              "      <td>0.12</td>\n",
              "      <td>2.0</td>\n",
              "      <td>0.075</td>\n",
              "      <td>32.0</td>\n",
              "      <td>44.0</td>\n",
              "      <td>0.99547</td>\n",
              "      <td>3.57</td>\n",
              "      <td>0.71</td>\n",
              "      <td>10.2</td>\n",
              "      <td>5</td>\n",
              "    </tr>\n",
              "    <tr>\n",
              "      <th>1598</th>\n",
              "      <td>6.0</td>\n",
              "      <td>0.310</td>\n",
              "      <td>0.47</td>\n",
              "      <td>3.6</td>\n",
              "      <td>0.067</td>\n",
              "      <td>18.0</td>\n",
              "      <td>42.0</td>\n",
              "      <td>0.99549</td>\n",
              "      <td>3.39</td>\n",
              "      <td>0.66</td>\n",
              "      <td>11.0</td>\n",
              "      <td>6</td>\n",
              "    </tr>\n",
              "  </tbody>\n",
              "</table>\n",
              "<p>1599 rows × 12 columns</p>\n",
              "</div>"
            ],
            "text/plain": [
              "      fixed acidity  volatile acidity  citric acid  ...  sulphates  alcohol  quality\n",
              "0               7.4             0.700         0.00  ...       0.56      9.4        5\n",
              "1               7.8             0.880         0.00  ...       0.68      9.8        5\n",
              "2               7.8             0.760         0.04  ...       0.65      9.8        5\n",
              "3              11.2             0.280         0.56  ...       0.58      9.8        6\n",
              "4               7.4             0.700         0.00  ...       0.56      9.4        5\n",
              "...             ...               ...          ...  ...        ...      ...      ...\n",
              "1594            6.2             0.600         0.08  ...       0.58     10.5        5\n",
              "1595            5.9             0.550         0.10  ...       0.76     11.2        6\n",
              "1596            6.3             0.510         0.13  ...       0.75     11.0        6\n",
              "1597            5.9             0.645         0.12  ...       0.71     10.2        5\n",
              "1598            6.0             0.310         0.47  ...       0.66     11.0        6\n",
              "\n",
              "[1599 rows x 12 columns]"
            ]
          },
          "metadata": {
            "tags": []
          },
          "execution_count": 112
        }
      ]
    },
    {
      "cell_type": "code",
      "metadata": {
        "id": "RJyLSbc7QAIp",
        "colab_type": "code",
        "colab": {
          "base_uri": "https://localhost:8080/",
          "height": 34
        },
        "outputId": "2922da4e-1d55-49a2-a30a-7f18a89e0b45"
      },
      "source": [
        "df.shape"
      ],
      "execution_count": null,
      "outputs": [
        {
          "output_type": "execute_result",
          "data": {
            "text/plain": [
              "(1599, 12)"
            ]
          },
          "metadata": {
            "tags": []
          },
          "execution_count": 113
        }
      ]
    },
    {
      "cell_type": "code",
      "metadata": {
        "id": "masoow3QSSot",
        "colab_type": "code",
        "colab": {
          "base_uri": "https://localhost:8080/",
          "height": 336
        },
        "outputId": "5106e81b-69b6-4aab-dbe0-87a61e86d704"
      },
      "source": [
        "df.info()"
      ],
      "execution_count": null,
      "outputs": [
        {
          "output_type": "stream",
          "text": [
            "<class 'pandas.core.frame.DataFrame'>\n",
            "RangeIndex: 1599 entries, 0 to 1598\n",
            "Data columns (total 12 columns):\n",
            " #   Column                Non-Null Count  Dtype  \n",
            "---  ------                --------------  -----  \n",
            " 0   fixed acidity         1599 non-null   float64\n",
            " 1   volatile acidity      1599 non-null   float64\n",
            " 2   citric acid           1599 non-null   float64\n",
            " 3   residual sugar        1599 non-null   float64\n",
            " 4   chlorides             1599 non-null   float64\n",
            " 5   free sulfur dioxide   1599 non-null   float64\n",
            " 6   total sulfur dioxide  1599 non-null   float64\n",
            " 7   density               1599 non-null   float64\n",
            " 8   pH                    1599 non-null   float64\n",
            " 9   sulphates             1599 non-null   float64\n",
            " 10  alcohol               1599 non-null   float64\n",
            " 11  quality               1599 non-null   int64  \n",
            "dtypes: float64(11), int64(1)\n",
            "memory usage: 150.0 KB\n"
          ],
          "name": "stdout"
        }
      ]
    },
    {
      "cell_type": "code",
      "metadata": {
        "id": "FxEBzl3nhQG1",
        "colab_type": "code",
        "colab": {
          "base_uri": "https://localhost:8080/",
          "height": 84
        },
        "outputId": "208ca29f-c581-4ba4-c29e-2d4d470a1c29"
      },
      "source": [
        "print(df.keys())"
      ],
      "execution_count": null,
      "outputs": [
        {
          "output_type": "stream",
          "text": [
            "Index(['fixed acidity', 'volatile acidity', 'citric acid', 'residual sugar',\n",
            "       'chlorides', 'free sulfur dioxide', 'total sulfur dioxide', 'density',\n",
            "       'pH', 'sulphates', 'alcohol', 'quality'],\n",
            "      dtype='object')\n"
          ],
          "name": "stdout"
        }
      ]
    },
    {
      "cell_type": "code",
      "metadata": {
        "id": "xVFywpxPUOXP",
        "colab_type": "code",
        "colab": {}
      },
      "source": [
        "x=df.iloc[:,5:12].values\n",
        "y=df.iloc[:,0].values"
      ],
      "execution_count": null,
      "outputs": []
    },
    {
      "cell_type": "code",
      "metadata": {
        "id": "wj8ji6y_VaMk",
        "colab_type": "code",
        "colab": {}
      },
      "source": [
        "from sklearn.model_selection import train_test_split\n",
        "x_train,x_test,y_train,y_test=train_test_split(x,y,random_state=0)\n"
      ],
      "execution_count": null,
      "outputs": []
    },
    {
      "cell_type": "code",
      "metadata": {
        "id": "EwQfvbfcXVN5",
        "colab_type": "code",
        "colab": {
          "base_uri": "https://localhost:8080/",
          "height": 1000
        },
        "outputId": "0e39bfb7-1cf8-4109-d358-2509c4da2369"
      },
      "source": [
        "from sklearn.linear_model import LinearRegression\n",
        "model = LinearRegression()\n",
        "model.fit(x_train,y_train)\n",
        "y_pred=model.predict(x_test)\n",
        "y_pred"
      ],
      "execution_count": null,
      "outputs": [
        {
          "output_type": "execute_result",
          "data": {
            "text/plain": [
              "array([10.15707232,  8.94731666,  8.49106473, 10.2977835 ,  9.76525172,\n",
              "        8.98884105,  9.29094773,  7.43091501,  7.7684029 ,  7.60390645,\n",
              "        8.62076639, 10.65133356, 10.19233191,  3.84462153,  6.00987699,\n",
              "        7.37725312,  7.88830446, 10.21312676,  5.6884969 ,  7.60211205,\n",
              "        7.49577511,  8.68977926,  7.44385221,  7.81116161,  6.84737463,\n",
              "        7.08091451,  8.67470888,  8.17805545,  8.12293404,  3.21367616,\n",
              "       10.13590087,  9.19031886,  6.16571356,  7.52288475,  7.33506359,\n",
              "       11.21669189,  6.60342509,  6.62245974,  5.73555405,  7.80255167,\n",
              "        8.62150618,  8.76344999,  4.72656999, 12.21407036,  8.33756593,\n",
              "        8.21934743,  7.92398485,  8.28548813,  7.12314475,  7.18656416,\n",
              "        6.6660968 ,  6.56097321,  8.73137354, 13.036428  ,  9.19257867,\n",
              "        6.48970634,  7.06864996,  9.62008865,  9.60319406,  8.78274169,\n",
              "        6.65830641,  8.23224515,  7.513837  ,  7.54860947,  7.25231407,\n",
              "        6.91143602,  7.68819227, 15.17528127,  9.93423431, 13.00405026,\n",
              "        9.44983698,  9.06505962,  8.37501352,  8.18174386,  7.13638023,\n",
              "        5.62435422,  7.21985267,  6.96636776,  8.24638122,  7.76951231,\n",
              "       11.66214727,  7.04737593,  6.90889384,  9.22945771,  7.40319069,\n",
              "        8.02774168,  7.32637784,  8.83061856,  7.28193274,  7.27003224,\n",
              "        8.49644944,  9.36709112,  6.40454692,  7.35279597,  7.46870565,\n",
              "        9.44983698,  9.10614736, 11.10022971,  8.21657593, 10.42513883,\n",
              "       10.90240789,  9.02080344,  8.38150923,  7.42481071,  7.92619221,\n",
              "        7.05811422,  7.92619221,  6.63608885,  6.90886787,  8.16205687,\n",
              "        5.41843099,  8.82424621,  8.23911148,  8.19065405,  8.31621699,\n",
              "        8.41481138,  8.2218559 ,  9.73659969,  8.15522505,  7.44385221,\n",
              "        8.60887585, 11.71308868,  8.99823587,  7.27534006,  7.86215445,\n",
              "        8.35478567,  8.32405409, 11.06429307,  7.94445748,  9.98036324,\n",
              "        7.20994038,  7.76118203,  8.07777532,  8.30020274, 10.08373952,\n",
              "        8.56390613, 12.50982915,  9.34045977, 12.05988739,  6.33368048,\n",
              "        6.89018929,  8.51746138,  7.92398485,  7.2527299 ,  8.082227  ,\n",
              "        9.14291078,  8.23911148,  8.91488002,  8.54995199,  7.26263464,\n",
              "        7.64184992,  9.00107635,  6.63608885,  9.23125528,  7.13541883,\n",
              "        7.5956402 , 10.27107586,  9.36158569,  6.82162345,  8.31019841,\n",
              "        6.33693253,  7.20802907, 10.73516886,  8.66357824, 11.78763072,\n",
              "        8.40451688,  5.79340478,  7.17783346, 10.63299258,  9.1270666 ,\n",
              "       11.19319761,  6.82162154,  7.34084737, 10.03602007,  8.05834416,\n",
              "        8.13302305, 11.14983537,  8.97318768,  5.73072603,  8.36359824,\n",
              "        7.4572493 ,  7.55439371,  7.18133677, 10.43700722,  6.64356657,\n",
              "        8.41283086,  7.90857229,  8.38150923,  7.48053959,  7.14266122,\n",
              "        8.67025019, 10.30725539,  9.68406422,  8.3155787 ,  8.25430671,\n",
              "        8.04843434,  8.62076639,  8.65506197, 10.08179945,  8.86672944,\n",
              "        9.09444751,  6.79467232,  7.70694693,  8.47530124,  7.95109247,\n",
              "        5.8395992 ,  7.86609115,  7.27999211, 10.00279784,  7.14359631,\n",
              "        8.51031949,  5.34101568,  8.39096793, 13.41057974,  7.59588817,\n",
              "        7.43434657, 10.43129676,  7.44930609,  7.29536482,  7.52078573,\n",
              "        7.29216249,  9.8053907 ,  8.57730671, 10.34316933,  8.24920061,\n",
              "       10.97807015,  8.3791454 ,  6.7838843 ,  9.77848652,  6.75336372,\n",
              "        6.7381117 ,  6.87804023,  8.03177149,  9.16617029, 10.2582042 ,\n",
              "        7.16521687, 11.37477427,  8.80387514,  7.35221552, 10.24638808,\n",
              "        7.4090415 ,  7.37564094,  9.18330836,  8.17970093,  8.55970486,\n",
              "        7.59246365,  7.48333042,  8.66987779,  8.66039373,  7.60703529,\n",
              "        7.84898912,  7.49046592,  7.48883445, 10.22823977,  6.70187471,\n",
              "        6.52971427,  7.79992663,  8.17632652,  7.11843786, 13.08408551,\n",
              "        7.49975284,  4.68079613, 11.03881576, 10.3802501 ,  7.4694708 ,\n",
              "        7.92713526,  6.22534654,  8.13152396,  7.74955631,  7.83474428,\n",
              "        9.76020032,  8.40843917,  8.71088991,  3.90497406, 11.28531384,\n",
              "        6.90880879,  8.42472679,  8.27081321,  7.18269207, 11.48225741,\n",
              "        9.84452594,  8.44102413,  8.40843917, 10.89737884,  8.75125082,\n",
              "        6.68721899,  6.75116394,  7.59865499,  7.60582932, 10.63391601,\n",
              "        6.90337104,  6.42376113,  9.05499045, 10.50461735,  8.35198446,\n",
              "        8.01229381,  6.83850512,  9.96986897,  7.90845726, 10.14004371,\n",
              "        7.32323693,  6.52253407, 11.01274877,  8.36305256,  8.09579417,\n",
              "        6.21356679,  7.6516968 ,  7.11910198,  7.73620488,  8.76488117,\n",
              "        7.7274699 ,  7.38243522,  6.20308437, 11.10022971,  8.49439263,\n",
              "        9.72927946,  6.93392058,  8.13426193,  8.99938745,  8.94486837,\n",
              "        8.76488117,  9.28749146,  9.03089951,  5.26151246,  8.53792144,\n",
              "        4.58193382,  8.12575834,  7.47675067, 10.70529311,  7.96386845,\n",
              "        8.9496211 ,  8.35640733,  9.29944122,  7.14266122,  8.50483307,\n",
              "        7.75318542,  9.45363565,  7.66454415,  8.62756524,  8.55757338,\n",
              "        6.79551207,  6.82657842,  7.68819227,  7.26263311,  8.01229381,\n",
              "       11.60379472,  7.99773519,  9.44282322,  8.15478064,  9.47641442,\n",
              "        9.24255225,  9.45670575,  8.73747094,  9.74261712,  6.73032474,\n",
              "        7.10206128,  8.67025019,  5.89421746,  8.24006741, 11.14342971,\n",
              "        6.98364962,  7.60703529, 10.1617613 ,  9.98489285,  7.63354069,\n",
              "        9.0880024 ,  6.62245974,  8.43322702,  6.54532996,  6.78299982,\n",
              "        8.91454341,  5.60302923,  8.59489474,  6.89618919,  8.57768769,\n",
              "        8.87153471,  9.00107635,  7.32488324,  7.16521687,  7.46264752,\n",
              "        8.61487421,  9.13598974,  9.92173001,  7.47162043,  7.47316028,\n",
              "        7.24615944, 12.39215601,  8.34999725,  7.206696  ,  9.74537548,\n",
              "        8.66262632,  7.37380469,  7.38767084, 11.29767474,  4.22265949,\n",
              "        9.16726354, 11.31075467,  7.7274699 , 15.15265672,  7.36209992])"
            ]
          },
          "metadata": {
            "tags": []
          },
          "execution_count": 127
        }
      ]
    },
    {
      "cell_type": "code",
      "metadata": {
        "id": "De5DlwJSX8Pr",
        "colab_type": "code",
        "colab": {
          "base_uri": "https://localhost:8080/",
          "height": 638
        },
        "outputId": "3c06e06a-56a8-4898-d661-03d0979f4673"
      },
      "source": [
        "y_test"
      ],
      "execution_count": null,
      "outputs": [
        {
          "output_type": "execute_result",
          "data": {
            "text/plain": [
              "array([10.8,  8.1,  9.1, 10.2, 12.2,  8.2,  9.3,  9.3,  8.8,  7.1,  8.6,\n",
              "        9.6,  9.4,  5. ,  5.4,  7.5,  8.2,  9.4,  6.3,  7.4,  7.1,  9. ,\n",
              "        7.5,  6. ,  6.4,  7.7,  9. ,  7.3,  8.6,  5.1, 10.2,  8.3,  6.9,\n",
              "        7.4,  6.6, 10.4,  6.2,  6.9,  5.9,  7.3,  8.5,  7.2,  5. , 13.8,\n",
              "        7.6,  8. ,  7.7,  8.4,  7.5,  8. ,  6.2,  5.2,  6.8, 13. , 10.1,\n",
              "        7.5,  7.8,  9.9, 10.5,  9. ,  6.9,  7.6,  6.9,  6.3,  7.4,  6.6,\n",
              "        7.2, 15.6, 10.4, 10.9,  9.6,  7.9,  8.1,  7.6,  6.8,  6. ,  6.4,\n",
              "        7.1,  7.5,  7.2, 12.2,  8. ,  6.2,  9.7,  6.8,  7.3,  6.5,  9.3,\n",
              "        7.5,  7.2,  8.8,  8.8,  6.5,  7.2,  7.5,  9.6,  8.8, 12.3,  7.8,\n",
              "       10.6, 10.3,  7.1,  8.2,  6.7,  6.9,  7.4,  6.9,  6.8,  6.6,  8.3,\n",
              "        5.9,  8.7,  7.2,  6.6,  7.9,  8.6,  8.3,  9.4,  8.3,  7.5,  9.2,\n",
              "       12. ,  8.5,  7.4,  7.2,  9.1,  9.2, 11.6,  8.5, 10.5,  7.2,  7. ,\n",
              "        7.6,  8. , 11.5,  8.8, 13.7,  8.9, 12.6,  6. ,  7.1,  8.2,  7.7,\n",
              "        7.2,  7.6, 10.9,  7.2, 10.4,  8.6,  7. ,  7.1,  8.2,  6.8,  9. ,\n",
              "        7.3,  6.9, 11.6,  8.6,  6.6, 10.2,  6.2,  6.9, 11.5,  8.2, 12.7,\n",
              "        8.1,  6. ,  7.9, 10. ,  9.3, 12.5,  6.9,  7. ,  9.4,  6.6,  6.5,\n",
              "        9.1,  9.2,  5.6,  8.4,  6.4,  7.4,  6.9, 12.3,  5.8,  8.4,  6.9,\n",
              "        8.2,  7.9,  6.1,  8.9,  9.9,  8.3,  8. ,  9.5,  8.2,  8.6,  9. ,\n",
              "        9.1,  8.9,  8.8,  6.8,  7.5,  8.7,  8. ,  6.8,  7.3,  8.5, 10. ,\n",
              "        7.2,  9.5,  6.1,  8.1, 13.5,  7.3,  7.1, 10.6,  6. ,  7.2,  6.8,\n",
              "        7.4, 10.2,  9. , 10.7,  8. , 12.4,  9. ,  6.4, 10.4,  6.6,  7.2,\n",
              "        6.2,  7.7, 10.6,  9. ,  7.1, 12.6,  9.2,  6.8, 10.4,  7.4,  6.9,\n",
              "        8.7,  7.7,  8.2,  7.3,  7.9,  9.7,  8.7,  8.8,  7.1,  6.6,  7.7,\n",
              "        9.5,  6.6,  6.8,  7.8,  8.2,  7.1, 12.8,  7.1,  5.2,  9.7, 10.8,\n",
              "        7. ,  7.9,  6.1,  7.4,  7.8,  8.5, 10.6,  7.9,  7.5,  4.6, 11.2,\n",
              "        6.7,  8.8,  7.9,  7.1, 11.6,  9.4,  8.1,  7.9, 11.5,  8.3,  7.1,\n",
              "        6.1,  7.1,  8.3, 10.4,  7.1,  6.6,  9.1, 10.3,  7.8,  7. ,  7. ,\n",
              "        9.9,  8. ,  9.2,  6.8,  6.4, 10.3,  7.6,  7.9,  6.5,  6.8,  7. ,\n",
              "        8. ,  9.9,  7.3,  6.3,  6.5, 12.3,  7.8, 10.1,  6.9,  9.1,  9.1,\n",
              "        8.2,  9.9, 10.8,  9.9,  5.6,  6.6,  5.8,  8.3,  8. , 11.1,  7. ,\n",
              "       10.2,  7.7,  9.9,  6.1,  7.7,  7. ,  8.9,  6.9,  8.4,  8.3,  7.2,\n",
              "        7.5,  7.2,  7.8,  7. , 10.8,  7.5,  8.6,  7.4, 10.4,  8.4,  9.6,\n",
              "        7.6, 10.2,  7.2,  7.2,  8.9,  6.4,  7.8, 10.5,  7.1,  8.8,  8.6,\n",
              "        9.9,  7.2,  8.3,  6.9,  9.3,  6.7,  6.6,  8. ,  6.1,  7.2,  6.6,\n",
              "        8.8,  9.7,  8.2,  7.5,  7.1,  7.2,  8.5,  9.1,  9.9,  6.8,  7.4,\n",
              "        6.8, 12.5,  8.7,  7. , 10.1, 10.8,  7.8,  8. , 10.4,  5.6,  9.3,\n",
              "       11.9,  7.3, 15.6,  7.6])"
            ]
          },
          "metadata": {
            "tags": []
          },
          "execution_count": 128
        }
      ]
    },
    {
      "cell_type": "code",
      "metadata": {
        "id": "xbp7w4AMjFw1",
        "colab_type": "code",
        "colab": {
          "base_uri": "https://localhost:8080/",
          "height": 50
        },
        "outputId": "180ef29e-f37e-4669-ea42-74b6ca3751c0"
      },
      "source": [
        "model.coef_\n"
      ],
      "execution_count": null,
      "outputs": [
        {
          "output_type": "execute_result",
          "data": {
            "text/plain": [
              "array([ 1.22125264e-03, -7.04848738e-03,  6.26618462e+02, -6.15478692e+00,\n",
              "       -7.37918143e-01,  5.62293460e-01,  8.80192287e-02])"
            ]
          },
          "metadata": {
            "tags": []
          },
          "execution_count": 129
        }
      ]
    },
    {
      "cell_type": "code",
      "metadata": {
        "id": "qmadJ2bXjrAO",
        "colab_type": "code",
        "colab": {
          "base_uri": "https://localhost:8080/",
          "height": 34
        },
        "outputId": "d15036ca-7ad2-42ae-9f58-1e9e3b5f5c48"
      },
      "source": [
        "model.intercept_"
      ],
      "execution_count": null,
      "outputs": [
        {
          "output_type": "execute_result",
          "data": {
            "text/plain": [
              "-601.4306424832148"
            ]
          },
          "metadata": {
            "tags": []
          },
          "execution_count": 130
        }
      ]
    },
    {
      "cell_type": "code",
      "metadata": {
        "id": "Mt1P88wTmJff",
        "colab_type": "code",
        "colab": {
          "base_uri": "https://localhost:8080/",
          "height": 282
        },
        "outputId": "0935d009-9006-4bfb-e9db-3cf065442579"
      },
      "source": [
        "graph=sns.countplot(x='fixed acidity',data=df)"
      ],
      "execution_count": null,
      "outputs": [
        {
          "output_type": "display_data",
          "data": {
            "image/png": "[encoded data removed]",
            "text/plain": [
              "<Figure size 432x288 with 1 Axes>"
            ]
          },
          "metadata": {
            "tags": [],
            "needs_background": "light"
          }
        }
      ]
    },
    {
      "cell_type": "code",
      "metadata": {
        "id": "ktM3zFQHki3O",
        "colab_type": "code",
        "colab": {
          "base_uri": "https://localhost:8080/",
          "height": 34
        },
        "outputId": "d637305d-d3a6-41be-9ace-796ae4676e72"
      },
      "source": [
        "from sklearn import metrics\n",
        "metrics.mean_squared_error(y_test,y_pred)\n"
      ],
      "execution_count": null,
      "outputs": [
        {
          "output_type": "execute_result",
          "data": {
            "text/plain": [
              "0.5279808956947781"
            ]
          },
          "metadata": {
            "tags": []
          },
          "execution_count": 132
        }
      ]
    },
    {
      "cell_type": "code",
      "metadata": {
        "id": "r0zvNHoRlExZ",
        "colab_type": "code",
        "colab": {
          "base_uri": "https://localhost:8080/",
          "height": 34
        },
        "outputId": "567e6d8e-3067-4d97-cebd-37723a4c5e39"
      },
      "source": [
        "#Accuracy score\n",
        "metrics.r2_score(y_test,y_pred)"
      ],
      "execution_count": null,
      "outputs": [
        {
          "output_type": "execute_result",
          "data": {
            "text/plain": [
              "0.828326237896004"
            ]
          },
          "metadata": {
            "tags": []
          },
          "execution_count": 133
        }
      ]
    },
    {
      "cell_type": "code",
      "metadata": {
        "id": "HCvmIpuCqoE0",
        "colab_type": "code",
        "colab": {}
      },
      "source": [
        ""
      ],
      "execution_count": null,
      "outputs": []
    }
  ]
}